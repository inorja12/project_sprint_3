{
 "cells": [
  {
   "cell_type": "markdown",
   "id": "1b8d59b9",
   "metadata": {},
   "source": [
    "¡Hola!\n",
    "\n",
    "Mi nombre es Tonatiuh Cruz. Me complace revisar tu proyecto hoy.\n",
    "\n",
    "Al identificar cualquier error inicialmente, simplemente los destacaré. Te animo a localizar y abordar los problemas de forma independiente como parte de tu preparación para un rol como data-scientist. En un entorno profesional, tu líder de equipo seguiría un enfoque similar. Si encuentras la tarea desafiante, proporcionaré una pista más específica en la próxima iteración.\n",
    "\n",
    "Encontrarás mis comentarios a continuación - **por favor no los muevas, modifiques o elimines**.\n",
    "\n",
    "Puedes encontrar mis comentarios en cajas verdes, amarillas o rojas como esta:\n",
    "\n",
    "<div class=\"alert alert-block alert-success\">\n",
    "<b>Comentario del revisor</b> <a class=\"tocSkip\"></a>\n",
    "\n",
    "Éxito. Todo está hecho correctamente.\n",
    "</div>\n",
    "\n",
    "<div class=\"alert alert-block alert-warning\">\n",
    "<b>Comentario del revisor</b> <a class=\"tocSkip\"></a>\n",
    "\n",
    "Observaciones. Algunas recomendaciones.\n",
    "</div>\n",
    "\n",
    "<div class=\"alert alert-block alert-danger\">\n",
    "<b>Comentario del revisor</b> <a class=\"tocSkip\"></a>\n",
    "\n",
    "Necesita corrección. El bloque requiere algunas correcciones. El trabajo no puede ser aceptado con comentarios en rojo.\n",
    "</div>\n",
    "\n",
    "Puedes responderme utilizando esto:\n",
    "\n",
    "<div class=\"alert alert-block alert-info\">\n",
    "<b>Respuesta del estudiante.</b> <a class=\"tocSkip\"></a>\n",
    "</div>"
   ]
  },
  {
   "cell_type": "markdown",
   "id": "3Xg_RQfnafXz",
   "metadata": {
    "id": "3Xg_RQfnafXz"
   },
   "source": [
    "# ¡Llena ese carrito!"
   ]
  },
  {
   "cell_type": "markdown",
   "id": "mhIvmmkW414q",
   "metadata": {
    "id": "mhIvmmkW414q"
   },
   "source": [
    "# Introducción\n",
    "\n",
    "Instacart es una plataforma de entregas de comestibles donde la clientela puede registrar un pedido y hacer que se lo entreguen, similar a Uber Eats y Door Dash.\n",
    "El conjunto de datos que te hemos proporcionado tiene modificaciones del original. Redujimos el tamaño del conjunto para que tus cálculos se hicieran más rápido e introdujimos valores ausentes y duplicados. Tuvimos cuidado de conservar las distribuciones de los datos originales cuando hicimos los cambios.\n",
    "\n",
    "Debes completar tres pasos. Para cada uno de ellos, escribe una breve introducción que refleje con claridad cómo pretendes resolver cada paso, y escribe párrafos explicatorios que justifiquen tus decisiones al tiempo que avanzas en tu solución.  También escribe una conclusión que resuma tus hallazgos y elecciones.\n"
   ]
  },
  {
   "cell_type": "markdown",
   "id": "3MbyzpOQZ5Or",
   "metadata": {
    "id": "3MbyzpOQZ5Or"
   },
   "source": [
    "## Diccionario de datos\n",
    "\n",
    "Hay cinco tablas en el conjunto de datos, y tendrás que usarlas todas para hacer el preprocesamiento de datos y el análisis exploratorio de datos. A continuación se muestra un diccionario de datos que enumera las columnas de cada tabla y describe los datos que contienen.\n",
    "\n",
    "- `instacart_orders.csv`: cada fila corresponde a un pedido en la aplicación Instacart.\n",
    "    - `'order_id'`: número de ID que identifica de manera única cada pedido.\n",
    "    - `'user_id'`: número de ID que identifica de manera única la cuenta de cada cliente.\n",
    "    - `'order_number'`: el número de veces que este cliente ha hecho un pedido.\n",
    "    - `'order_dow'`: día de la semana en que se hizo el pedido (0 si es domingo).\n",
    "    - `'order_hour_of_day'`: hora del día en que se hizo el pedido.\n",
    "    - `'days_since_prior_order'`: número de días transcurridos desde que este cliente hizo su pedido anterior.\n",
    "- `products.csv`: cada fila corresponde a un producto único que pueden comprar los clientes.\n",
    "    - `'product_id'`: número ID que identifica de manera única cada producto.\n",
    "    - `'product_name'`: nombre del producto.\n",
    "    - `'aisle_id'`: número ID que identifica de manera única cada categoría de pasillo de víveres.\n",
    "    - `'department_id'`: número ID que identifica de manera única cada departamento de víveres.\n",
    "- `order_products.csv`: cada fila corresponde a un artículo pedido en un pedido.\n",
    "    - `'order_id'`: número de ID que identifica de manera única cada pedido.\n",
    "    - `'product_id'`: número ID que identifica de manera única cada producto.\n",
    "    - `'add_to_cart_order'`: el orden secuencial en el que se añadió cada artículo en el carrito.\n",
    "    - `'reordered'`: 0 si el cliente nunca ha pedido este producto antes, 1 si lo ha pedido.\n",
    "- `aisles.csv`\n",
    "    - `'aisle_id'`: número ID que identifica de manera única cada categoría de pasillo de víveres.\n",
    "    - `'aisle'`: nombre del pasillo.\n",
    "- `departments.csv`\n",
    "    - `'department_id'`: número ID que identifica de manera única cada departamento de víveres.\n",
    "    - `'department'`: nombre del departamento."
   ]
  },
  {
   "cell_type": "markdown",
   "id": "n3Ha_cNSZ8lK",
   "metadata": {
    "id": "n3Ha_cNSZ8lK"
   },
   "source": [
    "# Paso 1. Descripción de los datos\n",
    "\n",
    "Lee los archivos de datos (`/datasets/instacart_orders.csv`, `/datasets/products.csv`, `/datasets/aisles.csv`, `/datasets/departments.csv` y `/datasets/order_products.csv`) con `pd.read_csv()` usando los parámetros adecuados para leer los datos correctamente. Verifica la información para cada DataFrame creado.\n"
   ]
  },
  {
   "cell_type": "markdown",
   "id": "OmlQPLlyaAfR",
   "metadata": {
    "id": "OmlQPLlyaAfR"
   },
   "source": [
    "## Plan de solución\n",
    "\n",
    "Escribe aquí tu plan de solución para el Paso 1. Descripción de los datos.\n",
    "1. Voy a importar la libreria pandas\n",
    "2. Voy a leer los archivos CSV separandolos en el numero de columnas que tienen, y averiguando que tipo de datos tiene cada columna"
   ]
  },
  {
   "cell_type": "code",
   "execution_count": 2,
   "id": "fbf1adab",
   "metadata": {
    "id": "fbf1adab"
   },
   "outputs": [],
   "source": [
    "# importar librerías\n",
    "import pandas as pd\n"
   ]
  },
  {
   "cell_type": "markdown",
   "id": "56521656",
   "metadata": {},
   "source": [
    "<div class=\"alert alert-block alert-warning\">\n",
    "<b>Comentario revisor</b> <a class=\"tocSkip\"></a>\n",
    "\n",
    "\n",
    "Recomiendo importar y cargar la librería de matplolib.pyplot para el desarrollo de las diferentes gráficas que te van a ayudar al análisis de los datos. \n",
    "</div>"
   ]
  },
  {
   "cell_type": "code",
   "execution_count": 3,
   "id": "ad36396d",
   "metadata": {
    "id": "ad36396d"
   },
   "outputs": [],
   "source": [
    "# leer conjuntos de datos en los DataFrames\n",
    "df1=pd.read_csv('/datasets/instacart_orders.csv',delimiter=';')\n",
    "df2=pd.read_csv('/datasets/products.csv',delimiter=';')\n",
    "df3=pd.read_csv('/datasets/aisles.csv',delimiter=';')\n",
    "df4=pd.read_csv('/datasets/departments.csv',delimiter=';')\n",
    "df5=pd.read_csv('/datasets/order_products.csv',delimiter=';')"
   ]
  },
  {
   "cell_type": "code",
   "execution_count": 4,
   "id": "ad6a1efa",
   "metadata": {
    "id": "ad6a1efa"
   },
   "outputs": [
    {
     "name": "stdout",
     "output_type": "stream",
     "text": [
      "<class 'pandas.core.frame.DataFrame'>\n",
      "RangeIndex: 478967 entries, 0 to 478966\n",
      "Data columns (total 6 columns):\n",
      " #   Column                  Non-Null Count   Dtype  \n",
      "---  ------                  --------------   -----  \n",
      " 0   order_id                478967 non-null  int64  \n",
      " 1   user_id                 478967 non-null  int64  \n",
      " 2   order_number            478967 non-null  int64  \n",
      " 3   order_dow               478967 non-null  int64  \n",
      " 4   order_hour_of_day       478967 non-null  int64  \n",
      " 5   days_since_prior_order  450148 non-null  float64\n",
      "dtypes: float64(1), int64(5)\n",
      "memory usage: 21.9 MB\n"
     ]
    }
   ],
   "source": [
    "df1.info()# mostrar información del DataFrame"
   ]
  },
  {
   "cell_type": "code",
   "execution_count": 5,
   "id": "5130e05e",
   "metadata": {
    "id": "5130e05e"
   },
   "outputs": [
    {
     "name": "stdout",
     "output_type": "stream",
     "text": [
      "<class 'pandas.core.frame.DataFrame'>\n",
      "RangeIndex: 49694 entries, 0 to 49693\n",
      "Data columns (total 4 columns):\n",
      " #   Column         Non-Null Count  Dtype \n",
      "---  ------         --------------  ----- \n",
      " 0   product_id     49694 non-null  int64 \n",
      " 1   product_name   48436 non-null  object\n",
      " 2   aisle_id       49694 non-null  int64 \n",
      " 3   department_id  49694 non-null  int64 \n",
      "dtypes: int64(3), object(1)\n",
      "memory usage: 1.5+ MB\n"
     ]
    }
   ],
   "source": [
    "df2.info()# mostrar información del DataFrame"
   ]
  },
  {
   "cell_type": "code",
   "execution_count": 6,
   "id": "d8370c05",
   "metadata": {
    "id": "d8370c05"
   },
   "outputs": [
    {
     "name": "stdout",
     "output_type": "stream",
     "text": [
      "<class 'pandas.core.frame.DataFrame'>\n",
      "RangeIndex: 134 entries, 0 to 133\n",
      "Data columns (total 2 columns):\n",
      " #   Column    Non-Null Count  Dtype \n",
      "---  ------    --------------  ----- \n",
      " 0   aisle_id  134 non-null    int64 \n",
      " 1   aisle     134 non-null    object\n",
      "dtypes: int64(1), object(1)\n",
      "memory usage: 2.2+ KB\n"
     ]
    }
   ],
   "source": [
    "df3.info()# mostrar información del DataFrame"
   ]
  },
  {
   "cell_type": "code",
   "execution_count": 7,
   "id": "59e2090f",
   "metadata": {
    "id": "59e2090f"
   },
   "outputs": [
    {
     "name": "stdout",
     "output_type": "stream",
     "text": [
      "<class 'pandas.core.frame.DataFrame'>\n",
      "RangeIndex: 21 entries, 0 to 20\n",
      "Data columns (total 2 columns):\n",
      " #   Column         Non-Null Count  Dtype \n",
      "---  ------         --------------  ----- \n",
      " 0   department_id  21 non-null     int64 \n",
      " 1   department     21 non-null     object\n",
      "dtypes: int64(1), object(1)\n",
      "memory usage: 464.0+ bytes\n"
     ]
    }
   ],
   "source": [
    "df4.info()# mostrar información del DataFrame"
   ]
  },
  {
   "cell_type": "code",
   "execution_count": 8,
   "id": "6fc81694",
   "metadata": {
    "id": "6fc81694"
   },
   "outputs": [
    {
     "name": "stdout",
     "output_type": "stream",
     "text": [
      "<class 'pandas.core.frame.DataFrame'>\n",
      "RangeIndex: 4545007 entries, 0 to 4545006\n",
      "Data columns (total 4 columns):\n",
      " #   Column             Non-Null Count    Dtype  \n",
      "---  ------             --------------    -----  \n",
      " 0   order_id           4545007 non-null  int64  \n",
      " 1   product_id         4545007 non-null  int64  \n",
      " 2   add_to_cart_order  4544171 non-null  float64\n",
      " 3   reordered          4545007 non-null  int64  \n",
      "dtypes: float64(1), int64(3)\n",
      "memory usage: 138.7 MB\n"
     ]
    }
   ],
   "source": [
    "df5.info(show_counts=True)# mostrar información del DataFrame"
   ]
  },
  {
   "cell_type": "markdown",
   "id": "t75BD19oaR5f",
   "metadata": {
    "id": "t75BD19oaR5f"
   },
   "source": [
    "## Conclusiones\n",
    "\n",
    "Escribe aquí tus conclusiones intermedias sobre el Paso 1. Descripción de los datos.\n",
    "1. Podemos ver que el dataframe 'instacart_orders' tiene 6 columnas todas de ellas con tipo de valores enteros/int64 menos 'days_since_prior_order' que tiene un tipo flotante; aparentemente tambien es la unica columna que tiene valores ausentes.\n",
    "2. Este resultado muestra que el Dataframe 'products' tiene 4 columnas de las cuales solo 'product_name' tiene tipo 'object'/string, el resto de las columnas son tipo entero/int64. Aparentemente la columna 'product_name' tiene valores ausentes.\n",
    "3. El Dataframe 'aisles' tiene solo dos columnas; la columna 'aisle_id' es de tipo entero/int64 y la columna 'aisle' es de tipo object/string. En este Dataframe no parece haber valores ausentes.\n",
    "4. El Dataframe 'departments' es un Dataframe mas corto que los anteriores con solo dos columnas; 'department_id' de tipo int64/entero y la columna 'department' de tipo object/string; y al parecer no tiene ningun valor ausente.\n",
    "5. El resultado para info() en el Dataframe 'order_products' muestra que tiene 4 columnas, 3 de ellas son tipo int64/entero y solo la columna 'add_to_cart_order' es de tipo float64/flotante, alparecer esta misma columna ('add_to_cart_order') tiene algunos valores ausentes.\n"
   ]
  },
  {
   "cell_type": "markdown",
   "id": "8RJHqxVmaVsF",
   "metadata": {
    "id": "8RJHqxVmaVsF"
   },
   "source": [
    "# Paso 2. Preprocesamiento de los datos\n",
    "\n",
    "Preprocesa los datos de la siguiente manera:\n",
    "\n",
    "- Verifica y corrige los tipos de datos (por ejemplo, asegúrate de que las columnas de ID sean números enteros).\n",
    "- Identifica y completa los valores ausentes.\n",
    "- Identifica y elimina los valores duplicados.\n",
    "\n",
    "Asegúrate de explicar qué tipos de valores ausentes y duplicados encontraste, cómo los completaste o eliminaste y por qué usaste esos métodos. ¿Por qué crees que estos valores ausentes y duplicados pueden haber estado presentes en el conjunto de datos?"
   ]
  },
  {
   "cell_type": "markdown",
   "id": "p6poABZQaZYb",
   "metadata": {
    "id": "p6poABZQaZYb"
   },
   "source": [
    "## Plan de solución\n",
    "\n",
    "Escribe aquí tu plan para el Paso 2. Preprocesamiento de los datos.\n",
    "* El plan en el preprocesamientio de datos es basicamente explorar los datos para encontrar mayormente datos ausentes y duplicados que podrian afectar el analisis de la informacion para conluir lo que el cliente esta buscando.\n"
   ]
  },
  {
   "cell_type": "markdown",
   "id": "07357848-dc64-4156-9cc3-01ff4365226d",
   "metadata": {
    "id": "07357848-dc64-4156-9cc3-01ff4365226d"
   },
   "source": [
    "## Encuentra y elimina los valores duplicados (y describe cómo tomaste tus decisiones)."
   ]
  },
  {
   "cell_type": "markdown",
   "id": "f179f0a9",
   "metadata": {
    "id": "f179f0a9"
   },
   "source": [
    "### `orders` data frame"
   ]
  },
  {
   "cell_type": "code",
   "execution_count": 9,
   "id": "b99297a5-405a-463d-8535-9adc3da4ad74",
   "metadata": {
    "id": "b99297a5-405a-463d-8535-9adc3da4ad74"
   },
   "outputs": [
    {
     "name": "stdout",
     "output_type": "stream",
     "text": [
      "Se encontraron filas duplicadas:\n",
      "order_id                  15\n",
      "user_id                   15\n",
      "order_number              15\n",
      "order_dow                 15\n",
      "order_hour_of_day         15\n",
      "days_since_prior_order    13\n",
      "dtype: int64\n",
      "        order_id  user_id  order_number  order_dow  order_hour_of_day  \\\n",
      "145574    794638    50898            24          3                  2   \n",
      "223105   2160484   107525            16          3                  2   \n",
      "230807   1918001   188546            14          3                  2   \n",
      "266232   1782114   106752             1          3                  2   \n",
      "273805   1112182   202304            84          3                  2   \n",
      "284038   2845099    31189            11          3                  2   \n",
      "311713   1021560    53767             3          3                  2   \n",
      "321100    408114    68324             4          3                  2   \n",
      "323900   1919531   191501            32          3                  2   \n",
      "345917   2232988    82565             1          3                  2   \n",
      "371905    391768    57671            19          3                  2   \n",
      "394347    467134    63189            21          3                  2   \n",
      "411408   1286742   183220            48          3                  2   \n",
      "415163   2282673    86751            49          3                  2   \n",
      "441599   2125197    14050            48          3                  2   \n",
      "\n",
      "        days_since_prior_order  \n",
      "145574                     2.0  \n",
      "223105                    30.0  \n",
      "230807                    16.0  \n",
      "266232                     NaN  \n",
      "273805                     6.0  \n",
      "284038                     7.0  \n",
      "311713                     9.0  \n",
      "321100                    18.0  \n",
      "323900                     7.0  \n",
      "345917                     NaN  \n",
      "371905                    10.0  \n",
      "394347                     2.0  \n",
      "411408                     4.0  \n",
      "415163                     2.0  \n",
      "441599                     3.0  \n",
      "<class 'pandas.core.frame.DataFrame'>\n",
      "RangeIndex: 478967 entries, 0 to 478966\n",
      "Data columns (total 6 columns):\n",
      " #   Column                  Non-Null Count   Dtype  \n",
      "---  ------                  --------------   -----  \n",
      " 0   order_id                478967 non-null  int64  \n",
      " 1   user_id                 478967 non-null  int64  \n",
      " 2   order_number            478967 non-null  int64  \n",
      " 3   order_dow               478967 non-null  int64  \n",
      " 4   order_hour_of_day       478967 non-null  int64  \n",
      " 5   days_since_prior_order  450148 non-null  float64\n",
      "dtypes: float64(1), int64(5)\n",
      "memory usage: 21.9 MB\n"
     ]
    }
   ],
   "source": [
    "# Revisa si hay pedidos duplicados\n",
    "duplicates=df1[df1.duplicated()].count()\n",
    "duplicated_rows=df1[df1.duplicated()]\n",
    "if duplicates.empty:\n",
    "    print('No hay filas duplicadas')\n",
    "else:\n",
    "    print('Se encontraron filas duplicadas:')\n",
    "    print(duplicates)\n",
    "    print(duplicated_rows)\n",
    "    df1.info()\n",
    "    \n"
   ]
  },
  {
   "cell_type": "markdown",
   "id": "PEkwUX_gvt5A",
   "metadata": {
    "id": "PEkwUX_gvt5A"
   },
   "source": [
    "¿Tienes líneas duplicadas? Si sí, ¿qué tienen en común?\n",
    "* La base de datos df1 ('instacart_orders') tiene 15 filas duplicadas en la mayoria de columnas; las columnas con valores repetidos parecen ser 'order_dow' y 'order_hour_of_day'; sin embargo la columna 'days_since_prior_order ' solo tiene13 valores duplicados, pero tambien se aprecian 2 valores ausentes 'NaN'."
   ]
  },
  {
   "cell_type": "code",
   "execution_count": 10,
   "id": "0d44de5d",
   "metadata": {
    "id": "0d44de5d"
   },
   "outputs": [
    {
     "name": "stdout",
     "output_type": "stream",
     "text": [
      "        order_id  user_id  order_number  order_dow  order_hour_of_day  \\\n",
      "4838     2766110   162084            41          3                  2   \n",
      "5156     2190225   138285            18          3                  2   \n",
      "15506     553049    58599            13          3                  2   \n",
      "18420     382357   120200            19          3                  2   \n",
      "24691     690242    77357             2          3                  2   \n",
      "...          ...      ...           ...        ...                ...   \n",
      "457013   3384021    14881             6          3                  2   \n",
      "458816    910166   164782            18          3                  2   \n",
      "459635   1680532   106435             6          3                  2   \n",
      "468324    222962    54979            59          3                  2   \n",
      "477526   2592344    46860            38          3                  2   \n",
      "\n",
      "        days_since_prior_order  \n",
      "4838                      16.0  \n",
      "5156                      11.0  \n",
      "15506                      7.0  \n",
      "18420                     11.0  \n",
      "24691                      9.0  \n",
      "...                        ...  \n",
      "457013                    30.0  \n",
      "458816                     4.0  \n",
      "459635                    21.0  \n",
      "468324                     3.0  \n",
      "477526                     3.0  \n",
      "\n",
      "[121 rows x 6 columns]\n"
     ]
    }
   ],
   "source": [
    "# Basándote en tus hallazgos,\n",
    "# Verifica todos los pedidos que se hicieron el miércoles a las 2:00 a.m.\n",
    "orders_wed_2am=df1[(df1['order_dow']==3)&(df1['order_hour_of_day']==2)]\n",
    "print(orders_wed_2am)\n"
   ]
  },
  {
   "cell_type": "markdown",
   "id": "vu2OWyoqwOx5",
   "metadata": {
    "id": "vu2OWyoqwOx5"
   },
   "source": [
    "¿Qué sugiere este resultado?\n",
    "    * Al parecer los pedidos realizados los miercoles a las 2am tienden a duplicarse, esto con base en la consulta anterior que muestra 15 filas duplicadas en este dia de la semana y a esa hora exactamente. Esto podria indicar algun tipo de anormalidad en el proceso de registro de estos pedidos, donde por ejemplo se crean entradas identicas para las ordenes realizadas en ese momento especificamente."
   ]
  },
  {
   "cell_type": "code",
   "execution_count": 11,
   "id": "480563c7",
   "metadata": {
    "id": "480563c7"
   },
   "outputs": [
    {
     "name": "stdout",
     "output_type": "stream",
     "text": [
      "(478952, 6)\n",
      "<class 'pandas.core.frame.DataFrame'>\n",
      "Int64Index: 478952 entries, 0 to 478966\n",
      "Data columns (total 6 columns):\n",
      " #   Column                  Non-Null Count   Dtype  \n",
      "---  ------                  --------------   -----  \n",
      " 0   order_id                478952 non-null  int64  \n",
      " 1   user_id                 478952 non-null  int64  \n",
      " 2   order_number            478952 non-null  int64  \n",
      " 3   order_dow               478952 non-null  int64  \n",
      " 4   order_hour_of_day       478952 non-null  int64  \n",
      " 5   days_since_prior_order  450135 non-null  float64\n",
      "dtypes: float64(1), int64(5)\n",
      "memory usage: 25.6 MB\n"
     ]
    }
   ],
   "source": [
    "# Elimina los pedidos duplicados\n",
    "df1=df1.drop_duplicates()\n",
    "print(df1.shape)\n",
    "df1.info()\n"
   ]
  },
  {
   "cell_type": "code",
   "execution_count": 12,
   "id": "0b2396a2",
   "metadata": {
    "id": "0b2396a2"
   },
   "outputs": [
    {
     "name": "stdout",
     "output_type": "stream",
     "text": [
      "No hay filas duplicadas\n"
     ]
    }
   ],
   "source": [
    "# Vuelve a verificar si hay filas duplicadas\n",
    "duplicates=df1[df1.duplicated()]\n",
    "if duplicates.empty:\n",
    "    print('No hay filas duplicadas')\n",
    "else:\n",
    "    print('Aun quedan filas duplicadas')\n",
    "    print(duplicates)\n"
   ]
  },
  {
   "cell_type": "code",
   "execution_count": 13,
   "id": "f6113ef1",
   "metadata": {
    "id": "f6113ef1"
   },
   "outputs": [
    {
     "name": "stdout",
     "output_type": "stream",
     "text": [
      "No hay IDs duplicados de pedidos\n"
     ]
    }
   ],
   "source": [
    "# Vuelve a verificar únicamente si hay IDs duplicados de pedidos\n",
    "order_id_duplicates=df1[df1.duplicated(subset=['order_id'])]\n",
    "if order_id_duplicates.empty:\n",
    "    print('No hay IDs duplicados de pedidos')\n",
    "else:\n",
    "    print('Se encontraron los siguientes IDs de pedidos duplicados')\n",
    "    print(order_id_duplicates)\n"
   ]
  },
  {
   "cell_type": "markdown",
   "id": "5e8905ae",
   "metadata": {
    "id": "5e8905ae"
   },
   "source": [
    "Describe brevemente tus hallazgos y lo que hiciste con ellos\n",
    "1. Se detectaron 15 filas con valores duplicadas, todas coinciden con ordenes de compra el miercoles a las 2am, lo cual podria indicar un error cuando estas ordenes son pedidas, haciendolas identicas una de otras. Sin embargo, ningun ID de pedidos tiene duplicados, lo que podria indicar que las 15 filas simplemente son 15 diferentes ordenes coincidencialmente pedidas a la misma hora el mismo dia."
   ]
  },
  {
   "cell_type": "markdown",
   "id": "f8e9c27b",
   "metadata": {},
   "source": [
    "<div class=\"alert alert-block alert-success\">\n",
    "<b>Comentario del revisor</b> <a class=\"tocSkip\"></a>\n",
    "\n",
    "Muy buen trabajo!! Desarrollaste de manera excelente el análisis de duplicados y eliminaste esos casos. \n",
    "    \n",
    "</div>"
   ]
  },
  {
   "cell_type": "markdown",
   "id": "45e6bc46",
   "metadata": {
    "id": "45e6bc46"
   },
   "source": [
    "### `products` data frame"
   ]
  },
  {
   "cell_type": "code",
   "execution_count": 14,
   "id": "5f526b5b-8175-46fa-a0fd-441767d50e64",
   "metadata": {
    "id": "5f526b5b-8175-46fa-a0fd-441767d50e64"
   },
   "outputs": [
    {
     "name": "stdout",
     "output_type": "stream",
     "text": [
      "No hay filas totalmente duplicadas\n"
     ]
    }
   ],
   "source": [
    "# Verifica si hay filas totalmente duplicadas\n",
    "df2_duplicates=df2[df2.duplicated()]\n",
    "if df2_duplicates.empty:\n",
    "    print('No hay filas totalmente duplicadas')\n",
    "else:\n",
    "    print('Se encontraron las siguientes filas totalmente duplicadas')\n",
    "    print(df2_duplicates)\n"
   ]
  },
  {
   "cell_type": "code",
   "execution_count": 15,
   "id": "88daa4f4",
   "metadata": {
    "id": "88daa4f4"
   },
   "outputs": [
    {
     "name": "stdout",
     "output_type": "stream",
     "text": [
      "Se encontraron los siguientes IDs de departamentos duplicados\n",
      "       product_id                                     product_name  aisle_id  \\\n",
      "4               5                        Green Chile Anytime Sauce         5   \n",
      "6               7                   Pure Coconut Water With Orange        98   \n",
      "7               8                Cut Russet Potatoes Steam N' Mash       116   \n",
      "9              10   Sparkling Orange Juice & Prickly Pear Beverage       115   \n",
      "10             11                                Peach Mango Juice        31   \n",
      "...           ...                                              ...       ...   \n",
      "49689       49690                    HIGH PERFORMANCE ENERGY DRINK        64   \n",
      "49690       49691                    ORIGINAL PANCAKE & WAFFLE MIX       130   \n",
      "49691       49692  ORGANIC INSTANT OATMEAL LIGHT MAPLE BROWN SUGAR       130   \n",
      "49692       49693                           SPRING WATER BODY WASH       127   \n",
      "49693       49694                          BURRITO- STEAK & CHEESE        38   \n",
      "\n",
      "       department_id  \n",
      "4                 13  \n",
      "6                  7  \n",
      "7                  1  \n",
      "9                  7  \n",
      "10                 7  \n",
      "...              ...  \n",
      "49689              7  \n",
      "49690             14  \n",
      "49691             14  \n",
      "49692             11  \n",
      "49693              1  \n",
      "\n",
      "[49673 rows x 4 columns]\n"
     ]
    }
   ],
   "source": [
    "# Revisa únicamente si hay ID de departamentos duplicados\n",
    "department_id_duplicates=df2[df2.duplicated(subset=['department_id'])]\n",
    "if department_id_duplicates.empty:\n",
    "    print('No hay IDs de departamentos duplicados')\n",
    "else:\n",
    "    print('Se encontraron los siguientes IDs de departamentos duplicados')\n",
    "    print(department_id_duplicates)\n"
   ]
  },
  {
   "cell_type": "code",
   "execution_count": 16,
   "id": "c773f0bf",
   "metadata": {
    "id": "c773f0bf"
   },
   "outputs": [
    {
     "name": "stdout",
     "output_type": "stream",
     "text": [
      "Se encontraron los siguienres nombres de productos duplicados\n",
      "       product_id                                     product_name  aisle_id  \\\n",
      "37             38                                              NaN       100   \n",
      "41             42                                  Biotin 1000 mcg        47   \n",
      "71             72                                              NaN       100   \n",
      "109           110                                              NaN       100   \n",
      "185           186       Fresh Scent Dishwasher Detergent with Dawn        74   \n",
      "...           ...                                              ...       ...   \n",
      "49689       49690                    HIGH PERFORMANCE ENERGY DRINK        64   \n",
      "49690       49691                    ORIGINAL PANCAKE & WAFFLE MIX       130   \n",
      "49691       49692  ORGANIC INSTANT OATMEAL LIGHT MAPLE BROWN SUGAR       130   \n",
      "49692       49693                           SPRING WATER BODY WASH       127   \n",
      "49693       49694                          BURRITO- STEAK & CHEESE        38   \n",
      "\n",
      "       department_id                               product_name_upper  \n",
      "37                21                                              NaN  \n",
      "41                11                                  BIOTIN 1000 MCG  \n",
      "71                21                                              NaN  \n",
      "109               21                                              NaN  \n",
      "185               17       FRESH SCENT DISHWASHER DETERGENT WITH DAWN  \n",
      "...              ...                                              ...  \n",
      "49689              7                    HIGH PERFORMANCE ENERGY DRINK  \n",
      "49690             14                    ORIGINAL PANCAKE & WAFFLE MIX  \n",
      "49691             14  ORGANIC INSTANT OATMEAL LIGHT MAPLE BROWN SUGAR  \n",
      "49692             11                           SPRING WATER BODY WASH  \n",
      "49693              1                          BURRITO- STEAK & CHEESE  \n",
      "\n",
      "[1465 rows x 5 columns]\n"
     ]
    }
   ],
   "source": [
    "# Revisa únicamente si hay nombres duplicados de productos (convierte los nombres a letras mayúsculas para compararlos mejor)\n",
    "df2['product_name_upper']=df2['product_name'].str.upper()\n",
    "product_name_duplicates=df2[df2.duplicated(subset=['product_name_upper'], keep=False)]\n",
    "if product_name_duplicates.empty:\n",
    "    print('No se hay nombres de productos duplicados')\n",
    "else:\n",
    "    print('Se encontraron los siguienres nombres de productos duplicados')\n",
    "    print(product_name_duplicates)"
   ]
  },
  {
   "cell_type": "code",
   "execution_count": 17,
   "id": "01efd02e",
   "metadata": {
    "id": "01efd02e"
   },
   "outputs": [
    {
     "name": "stdout",
     "output_type": "stream",
     "text": [
      "Se encontraron los siguientes nombres de productos, sin valores faltantes, duplicados\n",
      "       product_id                                     product_name  aisle_id  \\\n",
      "41             42                                  Biotin 1000 mcg        47   \n",
      "185           186       Fresh Scent Dishwasher Detergent with Dawn        74   \n",
      "515           516                           American Cheese Slices        21   \n",
      "1538         1539                                 Cauliflower head        83   \n",
      "1783         1784              NUTrition Protein Mix Blueberry Nut       117   \n",
      "...           ...                                              ...       ...   \n",
      "49689       49690                    HIGH PERFORMANCE ENERGY DRINK        64   \n",
      "49690       49691                    ORIGINAL PANCAKE & WAFFLE MIX       130   \n",
      "49691       49692  ORGANIC INSTANT OATMEAL LIGHT MAPLE BROWN SUGAR       130   \n",
      "49692       49693                           SPRING WATER BODY WASH       127   \n",
      "49693       49694                          BURRITO- STEAK & CHEESE        38   \n",
      "\n",
      "       department_id                               product_name_upper  \n",
      "41                11                                  BIOTIN 1000 MCG  \n",
      "185               17       FRESH SCENT DISHWASHER DETERGENT WITH DAWN  \n",
      "515               16                           AMERICAN CHEESE SLICES  \n",
      "1538               4                                 CAULIFLOWER HEAD  \n",
      "1783              19              NUTRITION PROTEIN MIX BLUEBERRY NUT  \n",
      "...              ...                                              ...  \n",
      "49689              7                    HIGH PERFORMANCE ENERGY DRINK  \n",
      "49690             14                    ORIGINAL PANCAKE & WAFFLE MIX  \n",
      "49691             14  ORGANIC INSTANT OATMEAL LIGHT MAPLE BROWN SUGAR  \n",
      "49692             11                           SPRING WATER BODY WASH  \n",
      "49693              1                          BURRITO- STEAK & CHEESE  \n",
      "\n",
      "[207 rows x 5 columns]\n"
     ]
    }
   ],
   "source": [
    "# Revisa si hay nombres duplicados de productos no faltantes\n",
    "df2_cleaned=df2.dropna(subset=['product_name_upper'])# primero elimino las filas con valores faltantes en la columna que cree anteriormente\n",
    "df2_cleaned_duplicates=df2_cleaned[df2_cleaned.duplicated(subset=['product_name_upper'],keep=False)]#con este codigo verifico si hay nombres de productos duplicados en la informacion que ya limpie\n",
    "if df2_cleaned_duplicates.empty:\n",
    "    print('No hay nombres de productos, sin valores faltantes, duplicados')\n",
    "else:\n",
    "    print('Se encontraron los siguientes nombres de productos, sin valores faltantes, duplicados')\n",
    "    print(df2_cleaned_duplicates)\n"
   ]
  },
  {
   "cell_type": "markdown",
   "id": "9da8d293",
   "metadata": {
    "id": "9da8d293"
   },
   "source": [
    "Describe brevemente tus hallazgos y lo que hiciste con ellos.\n",
    "* No se encontraron IDs de productos duplicados, sin embargo, si se encontraron departamentos duplicados, nombres de productos duplicados e incluso nombres de productos, con valores no faltantes, duplicados. En este DataFrame no encuentro problema con los valores que hay duplicados porque finalmente, varias personas ordenaron el mismo producto del mismo departamento de viveres."
   ]
  },
  {
   "cell_type": "markdown",
   "id": "d0366ccf",
   "metadata": {},
   "source": [
    "\n",
    "<div class=\"alert alert-block alert-success\">\n",
    "<b>Comentario del revisor</b> <a class=\"tocSkip\"></a>\n",
    "\n",
    "Muy buen trabajo!! Desarrollaste de manera excelente el análisis de duplicados. Para complementar el análisis, qué podríamos decir de estos  productos duplicados? \n",
    "    \n",
    "</div>"
   ]
  },
  {
   "cell_type": "markdown",
   "id": "60f30db1",
   "metadata": {
    "id": "60f30db1"
   },
   "source": [
    "### `departments` data frame"
   ]
  },
  {
   "cell_type": "code",
   "execution_count": 18,
   "id": "fb410ad4-0fbf-4b80-bb09-23fdea79afe3",
   "metadata": {
    "id": "fb410ad4-0fbf-4b80-bb09-23fdea79afe3"
   },
   "outputs": [
    {
     "name": "stdout",
     "output_type": "stream",
     "text": [
      "No hay filas duplicadas\n"
     ]
    }
   ],
   "source": [
    "# Revisa si hay filas totalmente duplicadas\n",
    "duplicates_departments=df4[df4.duplicated()]\n",
    "if duplicates_departments.empty:\n",
    "    print('No hay filas duplicadas')\n",
    "else:\n",
    "    print('Se encontraron las siguientes filas duplicadas')\n",
    "    print(duplicates_departments)\n"
   ]
  },
  {
   "cell_type": "code",
   "execution_count": 19,
   "id": "332b12bb",
   "metadata": {
    "id": "332b12bb"
   },
   "outputs": [
    {
     "name": "stdout",
     "output_type": "stream",
     "text": [
      "No se encontraron IDs duplicados\n"
     ]
    }
   ],
   "source": [
    "# Revisa únicamente si hay IDs duplicadas de productos\n",
    "duplicates_departments_id=df4.duplicated(subset=['department_id'])\n",
    "if duplicates_departments_id.any():\n",
    "    print(\"Se encontraron los siguientes IDs duplicados\")\n",
    "    print(df4[duplicates_departments_id]['department_id'])\n",
    "else:\n",
    "    print('No se encontraron IDs duplicados')\n",
    " "
   ]
  },
  {
   "cell_type": "markdown",
   "id": "bd30d78e",
   "metadata": {
    "id": "bd30d78e"
   },
   "source": [
    "Describe brevemente tus hallazgos y lo que hiciste con ellos.\n",
    "* No encontre ningun duplicado en este DataFrame."
   ]
  },
  {
   "cell_type": "markdown",
   "id": "889349c1",
   "metadata": {
    "id": "889349c1"
   },
   "source": [
    "### `aisles` data frame"
   ]
  },
  {
   "cell_type": "code",
   "execution_count": 20,
   "id": "9da89fb9-4679-40f5-ad0d-c34df753a3f8",
   "metadata": {
    "id": "9da89fb9-4679-40f5-ad0d-c34df753a3f8"
   },
   "outputs": [
    {
     "name": "stdout",
     "output_type": "stream",
     "text": [
      "No se encontraron filas duplicadas\n"
     ]
    }
   ],
   "source": [
    "# Revisa si hay filas totalmente duplicadas\n",
    "duplicates_aisles=df3[df3.duplicated()]\n",
    "if duplicates_aisles.empty:\n",
    "    print(\"No se encontraron filas duplicadas\")\n",
    "else:\n",
    "    print('Se encontraron las siguientes filas duplicadas')\n",
    "    print(duplicates_aisles)\n"
   ]
  },
  {
   "cell_type": "code",
   "execution_count": 21,
   "id": "da7c2822",
   "metadata": {
    "id": "da7c2822"
   },
   "outputs": [
    {
     "name": "stdout",
     "output_type": "stream",
     "text": [
      "No hay IDs duplicados\n"
     ]
    }
   ],
   "source": [
    "# Revisa únicamente si hay IDs duplicadas de productos\n",
    "duplicates_aisles_id=df3.duplicated(subset=['aisle_id'])\n",
    "if duplicates_aisles_id.any():\n",
    "    print('Se encontraron los siguientes IDs duplicados')\n",
    "    print(df3[duplicates_aisles_id]['aisle_id'])\n",
    "else:\n",
    "    print('No hay IDs duplicados')\n"
   ]
  },
  {
   "cell_type": "markdown",
   "id": "ac63826f",
   "metadata": {
    "id": "ac63826f"
   },
   "source": [
    "Describe brevemente tus hallazgos y lo que hiciste con ellos.\n",
    "* No encontre ningun dato duplicado en este DataFrame"
   ]
  },
  {
   "cell_type": "markdown",
   "id": "274cd06a",
   "metadata": {
    "id": "274cd06a"
   },
   "source": [
    "### `order_products` data frame"
   ]
  },
  {
   "cell_type": "code",
   "execution_count": 22,
   "id": "52326689-84a8-4b8f-a881-7c68780f62c9",
   "metadata": {
    "id": "52326689-84a8-4b8f-a881-7c68780f62c9"
   },
   "outputs": [
    {
     "name": "stdout",
     "output_type": "stream",
     "text": [
      "No se encontraron filas duplicadas\n"
     ]
    }
   ],
   "source": [
    "# Revisa si hay filas totalmente duplicadas\n",
    "duplicates_order_products=df5[df5.duplicated()]\n",
    "if duplicates_order_products.empty:\n",
    "    print('No se encontraron filas duplicadas')\n",
    "else:\n",
    "    print('Se encontraron las siguientes filas duplicadas')\n",
    "    print(duplicates_order_products)\n",
    "\n"
   ]
  },
  {
   "cell_type": "code",
   "execution_count": 23,
   "id": "7b861391",
   "metadata": {
    "id": "7b861391"
   },
   "outputs": [
    {
     "name": "stdout",
     "output_type": "stream",
     "text": [
      "No se encontraron duplicados engañosos\n"
     ]
    }
   ],
   "source": [
    "# Vuelve a verificar si hay cualquier otro duplicado engañoso\n",
    "duplicates_deceptive=df5.duplicated(subset=['order_id','product_id'])\n",
    "if duplicates_deceptive.any():\n",
    "    print('Se encontraron los siguientes duplicados engañosos')\n",
    "    print(df5[duplicates_deceptive])\n",
    "else:\n",
    "    print('No se encontraron duplicados engañosos')\n"
   ]
  },
  {
   "cell_type": "markdown",
   "id": "0b890492",
   "metadata": {
    "id": "0b890492"
   },
   "source": [
    "Describe brevemente tus hallazgos y lo que hiciste con ellos.\n",
    "* Al parecer este DataFrame 'order_products' tampoco tenia ningun dato duplicado."
   ]
  },
  {
   "cell_type": "markdown",
   "id": "1e46de76",
   "metadata": {
    "id": "1e46de76"
   },
   "source": [
    "## Encuentra y elimina los valores ausentes\n",
    "\n",
    "Al trabajar con valores duplicados, pudimos observar que también nos falta investigar valores ausentes:\n",
    "\n",
    "* La columna `'product_name'` de la tabla products.\n",
    "* La columna `'days_since_prior_order'` de la tabla orders.\n",
    "* La columna `'add_to_cart_order'` de la tabla order_productos."
   ]
  },
  {
   "cell_type": "markdown",
   "id": "c0aebd78",
   "metadata": {
    "id": "c0aebd78"
   },
   "source": [
    "### `products` data frame"
   ]
  },
  {
   "cell_type": "code",
   "execution_count": 24,
   "id": "fe4a8b0f",
   "metadata": {
    "id": "fe4a8b0f"
   },
   "outputs": [
    {
     "name": "stdout",
     "output_type": "stream",
     "text": [
      "Los valores ausentes en la columna 'product_name'son:1258\n"
     ]
    }
   ],
   "source": [
    "# Encuentra los valores ausentes en la columna 'product_name'\n",
    "valores_ausentes_product_name=df2['product_name'].isnull().sum()\n",
    "print(f\"Los valores ausentes en la columna 'product_name'son:{valores_ausentes_product_name}\")\n"
   ]
  },
  {
   "cell_type": "markdown",
   "id": "-A6x1AbJhjkp",
   "metadata": {
    "id": "-A6x1AbJhjkp"
   },
   "source": [
    "Describe brevemente cuáles son tus hallazgos.\n",
    "* En la columna 'product_name' tenemos 1258 valores ausentes."
   ]
  },
  {
   "cell_type": "code",
   "execution_count": 25,
   "id": "e96167bc",
   "metadata": {
    "id": "e96167bc"
   },
   "outputs": [
    {
     "name": "stdout",
     "output_type": "stream",
     "text": [
      "Estos son los valores ausentes relacionados con el pasillo ID 100\n",
      "37       True\n",
      "71       True\n",
      "109      True\n",
      "296      True\n",
      "416      True\n",
      "         ... \n",
      "49552    True\n",
      "49574    True\n",
      "49640    True\n",
      "49663    True\n",
      "49668    True\n",
      "Name: product_name, Length: 1258, dtype: bool\n"
     ]
    }
   ],
   "source": [
    "#  ¿Todos los nombres de productos ausentes están relacionados con el pasillo con ID 100?\n",
    "aisle_id_100=df2[df2['aisle_id']==100]\n",
    "valores_ausentes_aisle_100=aisle_id_100['product_name'].isnull()\n",
    "if valores_ausentes_aisle_100.empty:\n",
    "    print('No hay valores ausentes relacionados con el pasillo ID 100')\n",
    "else:\n",
    "    print('Estos son los valores ausentes relacionados con el pasillo ID 100')\n",
    "    print(valores_ausentes_aisle_100)\n"
   ]
  },
  {
   "cell_type": "markdown",
   "id": "WRpIfXRphpSL",
   "metadata": {
    "id": "WRpIfXRphpSL"
   },
   "source": [
    "Describe brevemente cuáles son tus hallazgos.\n",
    "* Al parecer los 1258 valores ausentes estan relacionados con el pasillo ID 100."
   ]
  },
  {
   "cell_type": "code",
   "execution_count": 26,
   "id": "8fd0a541",
   "metadata": {
    "id": "8fd0a541"
   },
   "outputs": [
    {
     "name": "stdout",
     "output_type": "stream",
     "text": [
      "Estos son los valores duplicados relacionados con ID department 21\n",
      "37       True\n",
      "71       True\n",
      "109      True\n",
      "296      True\n",
      "416      True\n",
      "         ... \n",
      "49552    True\n",
      "49574    True\n",
      "49640    True\n",
      "49663    True\n",
      "49668    True\n",
      "Name: product_name, Length: 1258, dtype: bool\n"
     ]
    }
   ],
   "source": [
    "# ¿Todos los nombres de productos ausentes están relacionados con el departamento con ID 21?\n",
    "department_id_21=df2[df2['department_id']==21]\n",
    "valores_ausentes_department_21=department_id_21['product_name'].isnull()\n",
    "if valores_ausentes_department_21.empty:\n",
    "    print('No se encontraron valores duplicados relacionados con ID department 21')\n",
    "else:\n",
    "    print('Estos son los valores duplicados relacionados con ID department 21')\n",
    "    print(valores_ausentes_department_21)\n"
   ]
  },
  {
   "cell_type": "markdown",
   "id": "qDpdYn1Fht_I",
   "metadata": {
    "id": "qDpdYn1Fht_I"
   },
   "source": [
    "Describe brevemente cuáles son tus hallazgos.\n",
    "* Parece que los 1258 valores duplicados estan todos relacionados con el departamento con ID 21"
   ]
  },
  {
   "cell_type": "code",
   "execution_count": 27,
   "id": "325c3464",
   "metadata": {
    "id": "325c3464"
   },
   "outputs": [
    {
     "name": "stdout",
     "output_type": "stream",
     "text": [
      "Pasillo ID 100:\n",
      "       product_id product_name  aisle_id  department_id product_name_upper  \\\n",
      "42819          38          NaN       100             21                NaN   \n",
      "42820          72          NaN       100             21                NaN   \n",
      "42821         110          NaN       100             21                NaN   \n",
      "42822         297          NaN       100             21                NaN   \n",
      "42823         417          NaN       100             21                NaN   \n",
      "\n",
      "         aisle department  \n",
      "42819  missing    missing  \n",
      "42820  missing    missing  \n",
      "42821  missing    missing  \n",
      "42822  missing    missing  \n",
      "42823  missing    missing  \n",
      "\n",
      "Departamento ID 21:\n",
      "       product_id product_name  aisle_id  department_id product_name_upper  \\\n",
      "42819          38          NaN       100             21                NaN   \n",
      "42820          72          NaN       100             21                NaN   \n",
      "42821         110          NaN       100             21                NaN   \n",
      "42822         297          NaN       100             21                NaN   \n",
      "42823         417          NaN       100             21                NaN   \n",
      "\n",
      "         aisle department  \n",
      "42819  missing    missing  \n",
      "42820  missing    missing  \n",
      "42821  missing    missing  \n",
      "42822  missing    missing  \n",
      "42823  missing    missing  \n"
     ]
    }
   ],
   "source": [
    "# Usa las tablas department y aisle para revisar los datos del pasillo con ID 100 y el departamento con ID 21.\n",
    "merged_products=df2.merge(df3, on='aisle_id').merge(df4, on='department_id')\n",
    "datos_pasillo_100=merged_products[merged_products['aisle_id']==100]\n",
    "datos_department_21=merged_products[merged_products['department_id']==21]\n",
    "print('Pasillo ID 100:')\n",
    "print(datos_pasillo_100.head())\n",
    "print('\\nDepartamento ID 21:')\n",
    "print(datos_department_21.head())"
   ]
  },
  {
   "cell_type": "markdown",
   "id": "nqhSTUPhhvEJ",
   "metadata": {
    "id": "nqhSTUPhhvEJ"
   },
   "source": [
    "Describe brevemente cuáles son tus hallazgos.\n",
    "* Lo primero que hice fue fusionar el DataFrame \"products\" con las tablas 'aisles' y 'departments', para despues poder filtrar los datos que estaban en las filas con el pasillo 100 y el departamento 21; al parecer las filas solo tienen valores en las columnas 'aisle_id' y 'department_id' que fueron las tablas que uni al DataFrame, el resto de datos estan ausentes."
   ]
  },
  {
   "cell_type": "code",
   "execution_count": 28,
   "id": "6b295120",
   "metadata": {
    "id": "6b295120"
   },
   "outputs": [
    {
     "name": "stdout",
     "output_type": "stream",
     "text": [
      "Los valores ausentes despues de hacer el reemplazo en 'product_name' ahora son:0\n"
     ]
    }
   ],
   "source": [
    "# Completa los nombres de productos ausentes con 'Unknown'\n",
    "df2['product_name'].fillna('Unknown',inplace=True)\n",
    "valores_ausentes_product_name=df2['product_name'].isnull().sum()\n",
    "print(f\"Los valores ausentes despues de hacer el reemplazo en 'product_name' ahora son:{valores_ausentes_product_name}\")\n",
    "\n"
   ]
  },
  {
   "cell_type": "markdown",
   "id": "fc70e5ad",
   "metadata": {
    "id": "fc70e5ad"
   },
   "source": [
    "Describe brevemente tus hallazgos y lo que hiciste con ellos.\n",
    "* Primero reemplace los valores ausentes con la palabra \"Unknown\" y luego comprobe que ya no quedara ningun valor ausente."
   ]
  },
  {
   "cell_type": "markdown",
   "id": "bebabb9c",
   "metadata": {},
   "source": [
    "<div class=\"alert alert-block alert-success\">\n",
    "<b>Comentario del revisor</b> <a class=\"tocSkip\"></a>\n",
    "\n",
    "Muy buen trabajo!! Desarrollaste de manera excelente el análisis de valores faltantes y los llenaste con \"unknown\".\n",
    "    \n",
    "</div>"
   ]
  },
  {
   "cell_type": "markdown",
   "id": "7eb45c86",
   "metadata": {
    "id": "7eb45c86"
   },
   "source": [
    "### `orders` data frame"
   ]
  },
  {
   "cell_type": "code",
   "execution_count": 29,
   "id": "93e41d96",
   "metadata": {
    "id": "93e41d96"
   },
   "outputs": [
    {
     "name": "stdout",
     "output_type": "stream",
     "text": [
      "Los valores ausentes en 'instacart orders' son:\n",
      "order_id                      0\n",
      "user_id                       0\n",
      "order_number                  0\n",
      "order_dow                     0\n",
      "order_hour_of_day             0\n",
      "days_since_prior_order    28817\n",
      "dtype: int64\n"
     ]
    }
   ],
   "source": [
    "# Encuentra los valores ausentes\n",
    "valores_ausentes_instacart_orders=df1.isnull().sum()\n",
    "print(\"Los valores ausentes en 'instacart orders' son:\")\n",
    "print(valores_ausentes_instacart_orders)"
   ]
  },
  {
   "cell_type": "code",
   "execution_count": 30,
   "id": "166e5a86",
   "metadata": {
    "id": "166e5a86"
   },
   "outputs": [
    {
     "name": "stdout",
     "output_type": "stream",
     "text": [
      "No hay valores ausentes en 'days_since_prior_order' que no sean el primer pedido del cliente\n"
     ]
    }
   ],
   "source": [
    "# ¿Hay algún valor ausente que no sea el primer pedido del cliente?\n",
    "valores_ausentes_days_since_prior_order=df1[df1['days_since_prior_order'].isnull()]\n",
    "ausentes_no_primer_pedido=valores_ausentes_days_since_prior_order[valores_ausentes_days_since_prior_order['order_number']!=1]\n",
    "if len(ausentes_no_primer_pedido)>0:\n",
    "    print(\"Estos son los valores ausentes en 'days_since_prior_order' que no son el primer pedido del cliente\")\n",
    "else:\n",
    "    print(\"No hay valores ausentes en 'days_since_prior_order' que no sean el primer pedido del cliente\")\n",
    "\n"
   ]
  },
  {
   "cell_type": "markdown",
   "id": "4e23d089",
   "metadata": {
    "id": "4e23d089"
   },
   "source": [
    "Describe brevemente tus hallazgos y lo que hiciste con ellos.\n",
    "* Lo primero que hice fue encontrar los valores ausentes en el DataFrame 'instacart_orders' lo que genero un resultado de 28817 valores ausentes en la columna 'days_since_prior_order'; al filtrar y verificar solo las filas donde 'days_since_prior_order' tenia valores nulos y no eran la primera compra del cliente, encontre que todos los valores ausentes en este DataFrame son los primeros pedidos del cliente."
   ]
  },
  {
   "cell_type": "markdown",
   "id": "69dc9ca4",
   "metadata": {
    "id": "69dc9ca4"
   },
   "source": [
    "### `order_products` data frame"
   ]
  },
  {
   "cell_type": "code",
   "execution_count": 31,
   "id": "b8240253",
   "metadata": {
    "id": "b8240253"
   },
   "outputs": [
    {
     "name": "stdout",
     "output_type": "stream",
     "text": [
      "order_id               0\n",
      "product_id             0\n",
      "add_to_cart_order    836\n",
      "reordered              0\n",
      "dtype: int64\n"
     ]
    }
   ],
   "source": [
    "# Encuentra los valores ausentes\n",
    "valores_ausentes_order_products=df5.isnull().sum()\n",
    "print(valores_ausentes_order_products)"
   ]
  },
  {
   "cell_type": "code",
   "execution_count": 32,
   "id": "9a78e5ee",
   "metadata": {
    "id": "9a78e5ee"
   },
   "outputs": [
    {
     "name": "stdout",
     "output_type": "stream",
     "text": [
      "El valor minimo en la columna \"add_to_cart_order\" es: 1.0\n",
      "El valor maximo en la columna \"add_to_cart_order\" es: 64.0\n"
     ]
    }
   ],
   "source": [
    "# ¿Cuáles son los valores mínimos y máximos en esta columna?\n",
    "valor_minimo=df5['add_to_cart_order'].min()\n",
    "valor_maximo=df5['add_to_cart_order'].max()\n",
    "print('El valor minimo en la columna \"add_to_cart_order\" es:', valor_minimo)\n",
    "print('El valor maximo en la columna \"add_to_cart_order\" es:',valor_maximo)\n"
   ]
  },
  {
   "cell_type": "markdown",
   "id": "-Z2Ja215jW78",
   "metadata": {
    "id": "-Z2Ja215jW78"
   },
   "source": [
    "Describe brevemente cuáles son tus hallazgos.\n",
    "* Encontre 836 valores ausentes en la columna 'add_to_cart_order' del DataFrame 'order_products'; el maximo de pedidos en el carrito es de 64 pedidos."
   ]
  },
  {
   "cell_type": "code",
   "execution_count": 33,
   "id": "ab9d0c2b",
   "metadata": {
    "id": "ab9d0c2b"
   },
   "outputs": [
    {
     "name": "stdout",
     "output_type": "stream",
     "text": [
      "Estos son los IDs de pedidos con valores ausentes:\n",
      "70\n"
     ]
    }
   ],
   "source": [
    "# Guarda todas las IDs de pedidos que tengan un valor ausente en 'add_to_cart_order'\n",
    "pedidos_valores_ausentes=df5[df5['add_to_cart_order'].isnull()]\n",
    "ids_valores_ausentes=pedidos_valores_ausentes['order_id'].nunique()\n",
    "print('Estos son los IDs de pedidos con valores ausentes:')\n",
    "print(ids_valores_ausentes)"
   ]
  },
  {
   "cell_type": "code",
   "execution_count": 34,
   "id": "54c31695",
   "metadata": {
    "id": "54c31695"
   },
   "outputs": [
    {
     "name": "stdout",
     "output_type": "stream",
     "text": [
      "No todos los pedidos con valores ausentes tienen mas de 64 productos\n",
      "Esta es la cantidad de pedidos con valores ausentes que tiene mas de 64 productos: 0\n"
     ]
    }
   ],
   "source": [
    "# ¿Todos los pedidos con valores ausentes tienen más de 64 productos?\n",
    "# Agrupa todos los pedidos con datos ausentes por su ID de pedido.\n",
    "# Cuenta el número de 'product_id' en cada pedido y revisa el valor mínimo del conteo.\n",
    "pedidos_con_valor_ausente=df5[df5['add_to_cart_order'].isnull()]\n",
    "conteo_productos_por_pedido=pedidos_con_valor_ausente.groupby('order_id')['product_id'].count()\n",
    "minimo_conteo=conteo_productos_por_pedido.min()\n",
    "if minimo_conteo>64:\n",
    "    print('Todos los pedidos con valores ausentes tienen mas de 64 productos')\n",
    "else:\n",
    "    print('No todos los pedidos con valores ausentes tienen mas de 64 productos')\n",
    "\n",
    "pedidos_mas_64_productos=conteo_productos_por_pedido[conteo_productos_por_pedido>64]\n",
    "cantidad_pedidos_mas_64=pedidos_mas_64_productos.shape[0]\n",
    "print('Esta es la cantidad de pedidos con valores ausentes que tiene mas de 64 productos:',cantidad_pedidos_mas_64)\n"
   ]
  },
  {
   "cell_type": "markdown",
   "id": "p9V6pddtjglj",
   "metadata": {
    "id": "p9V6pddtjglj"
   },
   "source": [
    "Describe brevemente cuáles son tus hallazgos.\n",
    "* Encontre que ninguno de los pedidos con valores ausentes tiene mas de 64 productos en la orden, yq ue el total de IDs con valores ausentes es de 70."
   ]
  },
  {
   "cell_type": "code",
   "execution_count": 35,
   "id": "7a987d08",
   "metadata": {
    "id": "7a987d08"
   },
   "outputs": [
    {
     "name": "stdout",
     "output_type": "stream",
     "text": [
      "<class 'pandas.core.frame.DataFrame'>\n",
      "RangeIndex: 4545007 entries, 0 to 4545006\n",
      "Data columns (total 4 columns):\n",
      " #   Column             Dtype\n",
      "---  ------             -----\n",
      " 0   order_id           int64\n",
      " 1   product_id         int64\n",
      " 2   add_to_cart_order  int64\n",
      " 3   reordered          int64\n",
      "dtypes: int64(4)\n",
      "memory usage: 138.7 MB\n"
     ]
    }
   ],
   "source": [
    "# Remplaza los valores ausentes en la columna 'add_to_cart? con 999 y convierte la columna al tipo entero.\n",
    "df5['add_to_cart_order']=df5['add_to_cart_order'].fillna(999)\n",
    "df5['add_to_cart_order']=df5['add_to_cart_order'].astype(int)\n",
    "df5.info()"
   ]
  },
  {
   "cell_type": "markdown",
   "id": "fea4bcc7",
   "metadata": {
    "id": "fea4bcc7"
   },
   "source": [
    "Describe brevemente tus hallazgos y lo que hiciste con ellos.\n",
    "* Encontre que ninguno de los pedidos con valores ausentes tiene mas de 64 productos en la orden, yq ue el total de IDs con valores ausentes es de 70.\n",
    "* Reemplace los valores ausentes en la columna 'add_to_cart_order' por 999 para luego convertirla en un tipo de dato entero/int.\n"
   ]
  },
  {
   "cell_type": "markdown",
   "id": "RnplPFY1gSrb",
   "metadata": {
    "id": "RnplPFY1gSrb"
   },
   "source": [
    "## Conclusiones\n",
    "\n",
    "Escribe aquí tus conclusiones intermedias sobre el Paso 2. Preprocesamiento de los datos\n",
    "* Cuando revise la base de datos 'order' encontre 15 filas repetidas o duplicadas en todas las columnas a excepcion de la columna 'days_since_first_order', esta tiene 13 valores duplicados.\n",
    "* Los datos duplicados en la base de datos 'order' estan los miercoles a las 2am, sin embargo los ID de ordenes y de clientes son diferentes. Una de las instruccioens del proyecto fue eliminar las 15 filas 'duplicadas', personalmente no lo encontre muy conveniente ya que no me parece que los datos este duplicados, simplemente pienso que es posible que muchas personas hayan entrado a comprar el mismo dia a la misma hora, por alguna razon especial (descuentos por ejemplo); sin embargo elimine los datos.\n",
    "* Al revisar la base de datos 'products' encontre 1465 datos duplicados y tambien 207 filas con valores duplicados de nombres de productos con valores no faltantes.\n",
    "* La base de datos 'departments' al parecer esta muy adecuado, porque no se encontraron datos duplicados, esto mismo pasa con las bases de datos de 'aisles' y 'product_orders' donde no se encontraron valores duplicados y/o duplicados engañosos.\n",
    "* En el siguiente paso del preprocesamiento de datos encontre que la base de datos 'products' tiene 2258 valores ausentes todos relacionados con el ID 100 de pasillos y el ID 21 de departamentos.\n",
    "* Al fusionar las tablas 'aisles' y 'departments' a la base de datos 'products' confirme la informacion que encontre anteriormente con los ID 100 y 21, por indicacion del proyecto reemplace los valores ausentes con la palabra 'Unknown\".\n",
    "* Revisando la base de datos 'orders' encontre 28817 valores ausentes en la columna 'days_since_prior_order'; tambien determine que todos los valores ausentes en esta columna son la primera compra del cliente, lo que indica que depronto los usuarios no completaron la informacion requerida al ordenar por ser la primera vez que lo hacian, o posiblemente porque sabian que nunca vovlerian a comprar.\n",
    "* Encontre 836 valores ausentes en la base de datos ordenes de productos exactamente ne la columna 'add_to_cart_order' identificando que esos valores ausentes corresponden a 70 diferentes ID de de pedidos; tambien determine que los pedidos con valores ausentes, ninguno tiene mas de 64 productos ordenados. Por instruccion del proyecto remplace los valores ausentes con '999' y cambie el tipo de dato en esa columna por entero/int.\n"
   ]
  },
  {
   "cell_type": "markdown",
   "id": "UjrOIwTcz3ri",
   "metadata": {
    "id": "UjrOIwTcz3ri"
   },
   "source": [
    "# Paso 3. Análisis de los datos\n",
    "\n",
    "Una vez los datos estén procesados y listos, haz el siguiente análisis:"
   ]
  },
  {
   "cell_type": "markdown",
   "id": "turkish-kidney",
   "metadata": {
    "id": "turkish-kidney"
   },
   "source": [
    "# [A] Fácil (deben completarse todos para aprobar)\n",
    "\n",
    "1. Verifica que los valores en las columnas `'order_hour_of_day'` y `'order_dow'` en la tabla orders sean razonables (es decir, `'order_hour_of_day'` oscile entre 0 y 23 y `'order_dow'` oscile entre 0 y 6).\n",
    "2. Crea un gráfico que muestre el número de personas que hacen pedidos dependiendo de la hora del día.\n",
    "3. Crea un gráfico que muestre qué día de la semana la gente hace sus compras.\n",
    "4. Crea un gráfico que muestre el tiempo que la gente espera hasta hacer su siguiente pedido, y comenta sobre los valores mínimos y máximos."
   ]
  },
  {
   "cell_type": "markdown",
   "id": "short-capability",
   "metadata": {
    "id": "short-capability"
   },
   "source": [
    "### [A1] Verifica que los valores sean sensibles"
   ]
  },
  {
   "cell_type": "code",
   "execution_count": 36,
   "id": "growing-fruit",
   "metadata": {
    "id": "growing-fruit"
   },
   "outputs": [
    {
     "name": "stdout",
     "output_type": "stream",
     "text": [
      "Los valores en la columna 'order_hour_of_day' son razonables.\n"
     ]
    }
   ],
   "source": [
    "min_order_hour=df1['order_hour_of_day'].min()\n",
    "max_order_hour=df1['order_hour_of_day'].max()\n",
    "if 0<=min_order_hour<=23 and 0<= max_order_hour <= 23:\n",
    "    print(\"Los valores en la columna 'order_hour_of_day' son razonables.\")\n",
    "else:\n",
    "    print(\"Los valores en la columna 'order_hour_of_day' necesitan ser revisados.\")\n",
    "    min_order_dow = df1['order_dow'].min()\n",
    "    \n"
   ]
  },
  {
   "cell_type": "code",
   "execution_count": 37,
   "id": "accessory-malaysia",
   "metadata": {
    "id": "accessory-malaysia"
   },
   "outputs": [
    {
     "name": "stdout",
     "output_type": "stream",
     "text": [
      "Los valores en la columna 'order_dow' son razonables.\n"
     ]
    }
   ],
   "source": [
    "min_order_dow = df1['order_dow'].min()\n",
    "max_order_dow = df1['order_dow'].max()\n",
    "if 0 <= min_order_dow <= 6 and 0 <= max_order_dow <= 6:\n",
    "    print(\"Los valores en la columna 'order_dow' son razonables.\")\n",
    "else:\n",
    "    print(\"Los valores en la columna 'order_dow' necesitan ser revisados.\")\n"
   ]
  },
  {
   "cell_type": "markdown",
   "id": "hmR2GNQ6lCsX",
   "metadata": {
    "id": "hmR2GNQ6lCsX"
   },
   "source": [
    "Escribe aquí tus conclusiones\n",
    "* Despues de determinar los valores minimos y maximos en cada de las columnas ('order_hour_of_day' y 'order_dow') se determina que los valores estan dentro de los rangos razonables para hacer calculos y exploracion de datos con ellos."
   ]
  },
  {
   "cell_type": "markdown",
   "id": "a6743a70",
   "metadata": {
    "id": "a6743a70"
   },
   "source": [
    "### [A2] Para cada hora del día, ¿cuántas personas hacen órdenes?"
   ]
  },
  {
   "cell_type": "code",
   "execution_count": 38,
   "id": "a36cca27",
   "metadata": {
    "id": "a36cca27"
   },
   "outputs": [
    {
     "data": {
      "image/png": "[encoded data removed]",
      "text/plain": [
       "<Figure size 432x288 with 1 Axes>"
      ]
     },
     "metadata": {
      "needs_background": "light"
     },
     "output_type": "display_data"
    }
   ],
   "source": [
    "import matplotlib.pyplot as plt\n",
    "plt.hist(df1['order_hour_of_day'], bins=24, edgecolor='black')\n",
    "plt.xlabel('Hora del día')\n",
    "plt.ylabel('Número de pedidos')\n",
    "plt.title('Número de personas que hacen pedidos según la hora del día')\n",
    "plt.show()\n"
   ]
  },
  {
   "cell_type": "markdown",
   "id": "11270eed",
   "metadata": {
    "id": "11270eed"
   },
   "source": [
    "Escribe aquí tus conclusiones\n",
    "* Parece que la hora en la que mas se hacen ordenes es a las 15:00 y la hora en la que menos ordenes se hacen es a las 04:00."
   ]
  },
  {
   "cell_type": "markdown",
   "id": "9e84a3c8",
   "metadata": {},
   "source": []
  },
  {
   "cell_type": "markdown",
   "id": "documented-command",
   "metadata": {
    "id": "documented-command"
   },
   "source": [
    "### [A3] ¿Qué día de la semana compran víveres las personas?"
   ]
  },
  {
   "cell_type": "code",
   "execution_count": 39,
   "id": "chief-digit",
   "metadata": {
    "id": "chief-digit"
   },
   "outputs": [
    {
     "data": {
      "image/png": "[encoded data removed]",
      "text/plain": [
       "<Figure size 432x288 with 1 Axes>"
      ]
     },
     "metadata": {
      "needs_background": "light"
     },
     "output_type": "display_data"
    }
   ],
   "source": [
    "orders_per_day = df1['order_dow'].value_counts().sort_index()\n",
    "dias_semana = ['Domingo', 'Lunes', 'Martes', 'Miércoles', 'Jueves', 'Viernes', 'Sábado']\n",
    "plt.bar(dias_semana, orders_per_day, color='purple')\n",
    "plt.xlabel('Día de la semana')\n",
    "plt.ylabel('Número de pedidos')\n",
    "plt.title('Número de pedidos por día de la semana')\n",
    "plt.show()"
   ]
  },
  {
   "cell_type": "markdown",
   "id": "dominant-lightning",
   "metadata": {
    "id": "dominant-lightning"
   },
   "source": [
    "Escribe aquí tus conclusiones\n",
    "* Al parecer las personas hacen mas ordenes los dias domingos y menos ordenes los dias jueves."
   ]
  },
  {
   "cell_type": "markdown",
   "id": "cutting-concert",
   "metadata": {
    "id": "cutting-concert"
   },
   "source": [
    "### [A4] ¿Cuánto tiempo esperan las personas hasta hacer otro pedido? Comenta sobre los valores mínimos y máximos."
   ]
  },
  {
   "cell_type": "code",
   "execution_count": 40,
   "id": "c231f523",
   "metadata": {
    "id": "c231f523"
   },
   "outputs": [
    {
     "data": {
      "image/png": "[encoded data removed]",
      "text/plain": [
       "<Figure size 432x288 with 1 Axes>"
      ]
     },
     "metadata": {
      "needs_background": "light"
     },
     "output_type": "display_data"
    }
   ],
   "source": [
    "df1_clean = df1.dropna(subset=['days_since_prior_order'])\n",
    "plt.hist(df1_clean['days_since_prior_order'], bins=30, color='navy', edgecolor='orange')\n",
    "plt.xlabel('Días hasta el siguiente pedido')\n",
    "plt.ylabel('Número de pedidos')\n",
    "plt.title('Tiempo hasta el siguiente pedido')\n",
    "plt.show()\n"
   ]
  },
  {
   "cell_type": "markdown",
   "id": "discrete-vertex",
   "metadata": {
    "id": "discrete-vertex"
   },
   "source": [
    "Escribe aquí tus conclusiones\n",
    "* Los datos mas importantes son que algunas personas esperan 0 dias antes de hacer su siguiente orden y las personas que mas se demoran en volver a ordenar lo hacen en 30 dias."
   ]
  },
  {
   "cell_type": "markdown",
   "id": "tight-staff",
   "metadata": {
    "id": "tight-staff"
   },
   "source": [
    "# [B] Intermedio (deben completarse todos para aprobar)\n",
    "\n",
    "1. ¿Existe alguna diferencia entre las distribuciones `'order_hour_of_day'` de los miércoles y los sábados? Traza gráficos de barra de `'order_hour_of_day'` para ambos días en la misma figura y describe las diferencias que observes.\n",
    "2. Grafica la distribución para el número de órdenes que hacen los clientes (es decir, cuántos clientes hicieron solo 1 pedido, cuántos hicieron 2, cuántos 3, y así sucesivamente...).\n",
    "3. ¿Cuáles son los 20 principales productos que se piden con más frecuencia (muestra su identificación y nombre)?"
   ]
  },
  {
   "cell_type": "markdown",
   "id": "packed-classic",
   "metadata": {
    "id": "packed-classic"
   },
   "source": [
    "### [B1] Diferencia entre miércoles y sábados para  `'order_hour_of_day'`. Traza gráficos de barra para los dos días y describe las diferencias que veas."
   ]
  },
  {
   "cell_type": "code",
   "execution_count": 41,
   "id": "d89b8403",
   "metadata": {
    "id": "d89b8403"
   },
   "outputs": [],
   "source": [
    "#Filtrar los dias miercoles y sabados\n",
    "df_wednesday = df1[df1['order_dow'] == 3]\n",
    "df_saturday = df1[df1['order_dow'] == 6]"
   ]
  },
  {
   "cell_type": "code",
   "execution_count": 42,
   "id": "94e54e8a",
   "metadata": {
    "id": "94e54e8a"
   },
   "outputs": [],
   "source": [
    "#Numero de pedidos por dia por hora\n",
    "orders_by_hour_wednesday = df_wednesday['order_hour_of_day'].value_counts().sort_index()\n"
   ]
  },
  {
   "cell_type": "code",
   "execution_count": 43,
   "id": "797c90a8",
   "metadata": {
    "id": "797c90a8"
   },
   "outputs": [],
   "source": [
    "orders_by_hour_saturday = df_saturday['order_hour_of_day'].value_counts().sort_index()\n"
   ]
  },
  {
   "cell_type": "code",
   "execution_count": 44,
   "id": "35bcea30",
   "metadata": {
    "id": "35bcea30"
   },
   "outputs": [
    {
     "data": {
      "image/png": "[encoded data removed]",
      "text/plain": [
       "<Figure size 432x288 with 1 Axes>"
      ]
     },
     "metadata": {
      "needs_background": "light"
     },
     "output_type": "display_data"
    }
   ],
   "source": [
    "fig, ax = plt.subplots()\n",
    "ax.bar(orders_by_hour_wednesday.index, orders_by_hour_wednesday.values, color='blue', alpha=0.7, label='Miércoles')\n",
    "ax.bar(orders_by_hour_saturday.index, orders_by_hour_saturday.values, color='red', alpha=0.7, label='Sábado')\n",
    "ax.set_xlabel('Hora del día')\n",
    "ax.set_ylabel('Número de pedidos')\n",
    "ax.set_title('Distribución de pedidos por hora del día (Miércoles vs Sábado)')\n",
    "ax.legend()\n",
    "plt.show()"
   ]
  },
  {
   "cell_type": "markdown",
   "id": "charitable-congo",
   "metadata": {
    "id": "charitable-congo"
   },
   "source": [
    "Escribe aquí tus conclusiones\n",
    "* Parece que los sabados a las 15:00 hrs se realizan mas pedidos que los miercoles, de hecho segun la grafica los miercoles a las 15:00 hrs no se realizan pedidos. Sin embargo, en la grafica se observa que los miercoles en horas de la manana, tipo 09:00, se realizan la mayor parte de pedidos."
   ]
  },
  {
   "cell_type": "markdown",
   "id": "e3891143",
   "metadata": {
    "id": "e3891143"
   },
   "source": [
    "### [B2] ¿Cuál es la distribución para el número de pedidos por cliente?"
   ]
  },
  {
   "cell_type": "code",
   "execution_count": 45,
   "id": "d8c26c23",
   "metadata": {
    "id": "d8c26c23"
   },
   "outputs": [],
   "source": [
    "orders_per_user = df1['user_id'].value_counts().value_counts().sort_index()"
   ]
  },
  {
   "cell_type": "code",
   "execution_count": 46,
   "id": "00e69a66",
   "metadata": {
    "id": "00e69a66"
   },
   "outputs": [
    {
     "data": {
      "image/png": "[encoded data removed]",
      "text/plain": [
       "<Figure size 720x432 with 1 Axes>"
      ]
     },
     "metadata": {
      "needs_background": "light"
     },
     "output_type": "display_data"
    }
   ],
   "source": [
    "plt.figure(figsize=(10, 6))\n",
    "plt.bar(orders_per_user.index, orders_per_user.values, color='navy')\n",
    "plt.xlabel('Número de órdenes por usuario')\n",
    "plt.ylabel('Número de usuarios')\n",
    "plt.title('Distribución del número de órdenes por usuario')\n",
    "plt.show()"
   ]
  },
  {
   "cell_type": "markdown",
   "id": "d2eff7d5",
   "metadata": {
    "id": "d2eff7d5"
   },
   "source": [
    "Escribe aquí tus conclusiones\n",
    "* La gran mayoria de clientes hace menos de 5 pedidos, siendo entre 1 y 2 pedidos los numeros de ordenes mas populares."
   ]
  },
  {
   "cell_type": "markdown",
   "id": "54a0319c",
   "metadata": {
    "id": "54a0319c"
   },
   "source": [
    "### [B3] ¿Cuáles son los 20 productos más populares (muestra su ID y nombre)?"
   ]
  },
  {
   "cell_type": "code",
   "execution_count": 48,
   "id": "exterior-arizona",
   "metadata": {
    "id": "exterior-arizona",
    "scrolled": true
   },
   "outputs": [],
   "source": [
    "top_products = df5['product_id'].value_counts().head(20)\n"
   ]
  },
  {
   "cell_type": "code",
   "execution_count": 49,
   "id": "universal-facial",
   "metadata": {
    "id": "universal-facial"
   },
   "outputs": [],
   "source": [
    "top_products_names = df2[df2['product_id'].isin(top_products.index)][['product_id', 'product_name']]"
   ]
  },
  {
   "cell_type": "code",
   "execution_count": 50,
   "id": "bbcdd20b",
   "metadata": {
    "id": "bbcdd20b"
   },
   "outputs": [
    {
     "name": "stdout",
     "output_type": "stream",
     "text": [
      "       product_id              product_name\n",
      "5875         5876             Organic Lemon\n",
      "8276         8277  Apple Honeycrisp Organic\n",
      "13175       13176    Bag of Organic Bananas\n",
      "16796       16797              Strawberries\n",
      "21136       21137      Organic Strawberries\n",
      "21902       21903      Organic Baby Spinach\n",
      "22934       22935      Organic Yellow Onion\n",
      "24851       24852                    Banana\n",
      "24963       24964            Organic Garlic\n",
      "26208       26209                     Limes\n",
      "27844       27845        Organic Whole Milk\n",
      "27965       27966       Organic Raspberries\n",
      "28203       28204        Organic Fuji Apple\n",
      "39274       39275       Organic Blueberries\n",
      "40705       40706    Organic Grape Tomatoes\n",
      "45006       45007          Organic Zucchini\n",
      "47208       47209      Organic Hass Avocado\n",
      "47625       47626               Large Lemon\n",
      "47765       47766           Organic Avocado\n",
      "49682       49683            Cucumber Kirby\n"
     ]
    }
   ],
   "source": [
    "print(top_products_names)"
   ]
  },
  {
   "cell_type": "markdown",
   "id": "7df00f47",
   "metadata": {
    "id": "7df00f47"
   },
   "source": [
    "Escribe aquí tus conclusiones\n",
    "* Parece que la mayoria de los productos top 20 son organicos, estos productos son altamente demandados."
   ]
  },
  {
   "cell_type": "markdown",
   "id": "gross-theme",
   "metadata": {
    "id": "gross-theme"
   },
   "source": [
    "# [C] Difícil (deben completarse todos para aprobar)\n",
    "\n",
    "1. ¿Cuántos artículos suelen comprar las personas en un pedido? ¿Cómo es la distribución?\n",
    "2. ¿Cuáles son los 20 principales artículos que vuelven a pedirse con mayor frecuencia (muestra sus nombres e IDs de los productos)?\n",
    "3. Para cada producto, ¿cuál es la tasa de repetición del pedido (número de repeticiones de pedido/total de pedidos?\n",
    "4. Para cada cliente, ¿qué proporción de los productos que pidió ya los había pedido? Calcula la tasa de repetición de pedido para cada usuario en lugar de para cada producto.\n",
    "5. ¿Cuáles son los 20 principales artículos que la gente pone primero en sus carritos (muestra las IDs de los productos, sus nombres, y el número de veces en que fueron el primer artículo en añadirse al carrito)?"
   ]
  },
  {
   "cell_type": "markdown",
   "id": "romantic-deposit",
   "metadata": {
    "id": "romantic-deposit"
   },
   "source": [
    "### [C1] ¿Cuántos artículos compran normalmente las personas en un pedido? ¿Cómo es la distribución?"
   ]
  },
  {
   "cell_type": "code",
   "execution_count": 55,
   "id": "virtual-punch",
   "metadata": {
    "id": "virtual-punch"
   },
   "outputs": [
    {
     "name": "stdout",
     "output_type": "stream",
     "text": [
      "10.098983215049127\n"
     ]
    }
   ],
   "source": [
    "mean_items_per_order = df5.groupby('order_id')['product_id'].count().mean()\n",
    "print(mean_items_per_order)"
   ]
  },
  {
   "cell_type": "code",
   "execution_count": 54,
   "id": "sensitive-breathing",
   "metadata": {
    "id": "sensitive-breathing"
   },
   "outputs": [
    {
     "data": {
      "image/png": "[encoded data removed]",
      "text/plain": [
       "<Figure size 720x432 with 1 Axes>"
      ]
     },
     "metadata": {
      "needs_background": "light"
     },
     "output_type": "display_data"
    }
   ],
   "source": [
    "plt.figure(figsize=(10, 6))\n",
    "plt.hist(df5.groupby('order_id')['product_id'].count(), bins=30, color='skyblue', edgecolor='black')\n",
    "plt.xlabel('Número de artículos por pedido')\n",
    "plt.ylabel('Frecuencia')\n",
    "plt.title('Distribución del número de artículos por pedido')\n",
    "plt.axvline(mean_items_per_order, color='red', linestyle='dashed', linewidth=1, label='Media: {:.2f}'.format(mean_items_per_order))\n",
    "plt.legend()\n",
    "plt.show()"
   ]
  },
  {
   "cell_type": "markdown",
   "id": "designed-mortality",
   "metadata": {
    "id": "designed-mortality"
   },
   "source": [
    "Escribe aquí tus conclusiones\n",
    "* Las personas compran 10.09~10 productos por pedido, dsegun los calculos de la media de la base de datos para las columnas 'order_id' y 'product_id'. La distribucion indica que los clientes compran entre 1-10 articulos por pedido con un pico entre 5-6 articulos."
   ]
  },
  {
   "cell_type": "markdown",
   "id": "5e6b5537",
   "metadata": {
    "id": "5e6b5537"
   },
   "source": [
    "### [C2] ¿Cuáles son los 20 principales artículos que vuelven a pedirse con mayor frecuencia (muestra sus nombres e IDs de los productos)?"
   ]
  },
  {
   "cell_type": "code",
   "execution_count": 65,
   "id": "9374e55a",
   "metadata": {
    "id": "9374e55a"
   },
   "outputs": [],
   "source": [
    "#aqui estoy agrupando por la columna 'product_id' y sumando la columna 'reordered'\n",
    "top_reorder_products = df5.groupby('product_id')['reordered'].sum()\n"
   ]
  },
  {
   "cell_type": "code",
   "execution_count": 59,
   "id": "possible-change",
   "metadata": {
    "id": "possible-change",
    "scrolled": true
   },
   "outputs": [],
   "source": [
    "#aqui estoy organizando en orden descendete\n",
    "top_reorder_products = top_reorder_products.sort_values(ascending=False)"
   ]
  },
  {
   "cell_type": "code",
   "execution_count": 67,
   "id": "professional-surfing",
   "metadata": {
    "id": "professional-surfing",
    "scrolled": true
   },
   "outputs": [],
   "source": [
    "#Aqui estoy seleccionando los 20 principales\n",
    "top_20_reorder_products = top_reorder_products.head(20)\n"
   ]
  },
  {
   "cell_type": "code",
   "execution_count": 63,
   "id": "48dd3658",
   "metadata": {
    "id": "48dd3658"
   },
   "outputs": [
    {
     "name": "stdout",
     "output_type": "stream",
     "text": [
      "    product_id              product_name\n",
      "0        24852                    Banana\n",
      "1        13176    Bag of Organic Bananas\n",
      "2        21137      Organic Strawberries\n",
      "3        21903      Organic Baby Spinach\n",
      "4        47209      Organic Hass Avocado\n",
      "5        47766           Organic Avocado\n",
      "6        27845        Organic Whole Milk\n",
      "7        47626               Large Lemon\n",
      "8        27966       Organic Raspberries\n",
      "9        16797              Strawberries\n",
      "10       26209                     Limes\n",
      "11       22935      Organic Yellow Onion\n",
      "12       24964            Organic Garlic\n",
      "13       45007          Organic Zucchini\n",
      "14       49683            Cucumber Kirby\n",
      "15       28204        Organic Fuji Apple\n",
      "16        8277  Apple Honeycrisp Organic\n",
      "17       39275       Organic Blueberries\n",
      "18        5876             Organic Lemon\n",
      "19       49235       Organic Half & Half\n"
     ]
    }
   ],
   "source": [
    "#Aqui estoy uniendo el DataFrame 'products' para obtener el nombre de los productos\n",
    "top_20_reorder_products_names = top_20_reorder_products.reset_index().merge(df2, on='product_id')\n",
    "print(top_20_reorder_products_names[['product_id', 'product_name']])"
   ]
  },
  {
   "cell_type": "markdown",
   "id": "80e70c74",
   "metadata": {
    "id": "80e70c74"
   },
   "source": [
    "Escribe aquí tus conclusiones\n",
    "* Despues de agrupar el DataFrame por la columna 'product_id' y sumar la columna 'reordered', procedi a organizar la informacion en orden descendente, para despues seleccionar los 20 principales articulos, para obtener un resultado mas facil de leer uni el DataFrame 'products' para obtener el nombre de los productos y concluir que el producto principal que se vuelve a ordenar con mayor frecuencia es la banana seguida por bananas organicas."
   ]
  },
  {
   "cell_type": "markdown",
   "id": "9d312b14",
   "metadata": {
    "id": "9d312b14"
   },
   "source": [
    "### [C3] Para cada producto, ¿cuál es la proporción de las veces que se pide y que se vuelve a pedir?"
   ]
  },
  {
   "cell_type": "code",
   "execution_count": 80,
   "id": "8ae9f4b1",
   "metadata": {
    "id": "8ae9f4b1"
   },
   "outputs": [],
   "source": [
    "total_orders = df5['product_id'].value_counts()\n"
   ]
  },
  {
   "cell_type": "code",
   "execution_count": 93,
   "id": "103e7fe1",
   "metadata": {
    "id": "103e7fe1"
   },
   "outputs": [],
   "source": [
    "reordered_counts = df5.groupby('product_id')['reordered'].sum()"
   ]
  },
  {
   "cell_type": "code",
   "execution_count": 102,
   "id": "social-individual",
   "metadata": {
    "id": "social-individual"
   },
   "outputs": [
    {
     "name": "stdout",
     "output_type": "stream",
     "text": [
      "    product_id                                       product_name  \\\n",
      "0        14721                            Bone Strength Take Care   \n",
      "1        20949                           Vanilla Sandwich Cookies   \n",
      "2         6723                                   Palmiers- Petite   \n",
      "3         6732                  Naturally Sparkling Mineral Water   \n",
      "4        45088  California Dill Pollen & Garlic Goat Cheese & ...   \n",
      "5        45078                                       Pomegranatea   \n",
      "6        21016       Parchment Lined 8 in x 3.75 in x 2.5 in Pans   \n",
      "7        21005                        Peanut Butter Pie Ice Cream   \n",
      "8        35192                         Chocolate Soy Milk Singles   \n",
      "9        35197  Mocha Chocolate Chip  Organic Non-Dairy Frozen...   \n",
      "10        6810                        Raspberry Goji Paleo Prints   \n",
      "11       45040                                 Head Lock Mega Gel   \n",
      "12       45035                               Coffee Flavor Yogurt   \n",
      "13       27373                                     Meat Loaf Meal   \n",
      "14       30748                           Cheese & Garlic Croutons   \n",
      "15       45031                 Sugar Free Hazelnut Coffee Creamer   \n",
      "16       35137  Superior Preference Fade-Defying Color + Shine...   \n",
      "17       30747                   Dentotape® Unflavored Waxed Tape   \n",
      "18       35228                       Marvelous Muffins Baking Mix   \n",
      "19       35229                             Bean & Cheese Burritos   \n",
      "\n",
      "    reorder_ratio  \n",
      "0             1.0  \n",
      "1             1.0  \n",
      "2             1.0  \n",
      "3             1.0  \n",
      "4             1.0  \n",
      "5             1.0  \n",
      "6             1.0  \n",
      "7             1.0  \n",
      "8             1.0  \n",
      "9             1.0  \n",
      "10            1.0  \n",
      "11            1.0  \n",
      "12            1.0  \n",
      "13            1.0  \n",
      "14            1.0  \n",
      "15            1.0  \n",
      "16            1.0  \n",
      "17            1.0  \n",
      "18            1.0  \n",
      "19            1.0  \n"
     ]
    }
   ],
   "source": [
    "reorder_ratio = (reordered_counts / total_orders).fillna(0)\n",
    "reorder_ratio = reorder_ratio.sort_values(ascending=False)\n",
    "product_names = df2.set_index('product_id').loc[reorder_ratio.index]['product_name']\n",
    "reorder_ratio_df = pd.DataFrame({\n",
    "    'product_id': reorder_ratio.index,\n",
    "    'product_name': product_names.values,\n",
    "    'reorder_ratio': reorder_ratio.values\n",
    "})\n",
    "top_reorder_products = reorder_ratio_df.head(20)\n",
    "print(top_reorder_products)\n"
   ]
  },
  {
   "cell_type": "markdown",
   "id": "I10dEIAyldcO",
   "metadata": {
    "id": "I10dEIAyldcO"
   },
   "source": [
    "Escribe aquí tus conclusiones\n",
    "* Con esta informacion el cliente podra:\n",
    "    *Los productos mas populares que son los que probablemente generan un mayor volumen de ventas\n",
    "    *Los productos menos populares o de reorden mas baja que puede ser debido a su precio o incluso su      calidad\n",
    "    *Las tendencias de reorden tambien pueden indicar que algunos de los productos con mayor         proporcion de reorden son perecederos por lo que la gente tendria que comprarlos mas seguido\n",
    "    *Con esta informacion tambien pueden tomarse deciciones de marketing e incluso sobre inventarios y      stock"
   ]
  },
  {
   "cell_type": "markdown",
   "id": "subject-boxing",
   "metadata": {
    "id": "subject-boxing"
   },
   "source": [
    "### [C4] Para cada cliente, ¿qué proporción de sus productos ya los había pedido?"
   ]
  },
  {
   "cell_type": "code",
   "execution_count": 105,
   "id": "medical-couple",
   "metadata": {
    "id": "medical-couple",
    "scrolled": true
   },
   "outputs": [],
   "source": [
    "merged_df = df5.merge(df1[['order_id', 'user_id']], on='order_id')\n",
    "user_order_counts = merged_df.groupby('user_id')['reordered'].agg(['count', 'sum'])"
   ]
  },
  {
   "cell_type": "code",
   "execution_count": 106,
   "id": "8892e4b4",
   "metadata": {
    "id": "8892e4b4"
   },
   "outputs": [
    {
     "name": "stdout",
     "output_type": "stream",
     "text": [
      "         count  sum  reorder_ratio\n",
      "user_id                           \n",
      "2           26    1       0.038462\n",
      "4            2    0       0.000000\n",
      "5           12    8       0.666667\n",
      "6            4    0       0.000000\n",
      "7           14   13       0.928571\n"
     ]
    }
   ],
   "source": [
    "user_order_counts['reorder_ratio'] = user_order_counts['sum'] / user_order_counts['count']\n",
    "print(user_order_counts.head())"
   ]
  },
  {
   "cell_type": "markdown",
   "id": "BgJSvXDsleXz",
   "metadata": {
    "id": "BgJSvXDsleXz"
   },
   "source": [
    "Escribe aquí tus conclusiones\n",
    "* Los clientes que tienden a reordenar el mismos producto una y otra vez, son un indicativo de satisfaccion con este y por ello hacen parte de sus comprar regulares. Las personas que aun tienen un reordenamiento bajo podrian indicar que estsan probando diferentes productos."
   ]
  },
  {
   "cell_type": "markdown",
   "id": "92d35137",
   "metadata": {
    "id": "92d35137"
   },
   "source": [
    "### [C5] ¿Cuáles son los 20 principales artículos que las personas ponen primero en sus carritos?"
   ]
  },
  {
   "cell_type": "code",
   "execution_count": 107,
   "id": "0ae57274",
   "metadata": {
    "id": "0ae57274",
    "scrolled": true
   },
   "outputs": [],
   "source": [
    "top_first_items = df5[df5['add_to_cart_order'] == 1]['product_id'].value_counts().head(20)"
   ]
  },
  {
   "cell_type": "code",
   "execution_count": 108,
   "id": "forty-netherlands",
   "metadata": {
    "id": "forty-netherlands",
    "scrolled": true
   },
   "outputs": [],
   "source": [
    "top_first_items = pd.merge(top_first_items, df2[['product_id', 'product_name']], left_index=True, right_on='product_id')"
   ]
  },
  {
   "cell_type": "code",
   "execution_count": 117,
   "id": "08e41ec2",
   "metadata": {
    "id": "08e41ec2"
   },
   "outputs": [
    {
     "name": "stdout",
     "output_type": "stream",
     "text": [
      "              Cantidad  ID Producto              Nombre Producto\n",
      "24851  24852     15562        24852                       Banana\n",
      "13175  13176     11026        13176       Bag of Organic Bananas\n",
      "27844  27845      4363        27845           Organic Whole Milk\n",
      "21136  21137      3946        21137         Organic Strawberries\n",
      "47208  47209      3390        47209         Organic Hass Avocado\n",
      "21902  21903      3336        21903         Organic Baby Spinach\n",
      "47765  47766      3044        47766              Organic Avocado\n",
      "19659  19660      2336        19660                 Spring Water\n",
      "16796  16797      2308        16797                 Strawberries\n",
      "27965  27966      2024        27966          Organic Raspberries\n",
      "44631  44632      1914        44632   Sparkling Water Grapefruit\n",
      "49234  49235      1797        49235          Organic Half & Half\n",
      "47625  47626      1737        47626                  Large Lemon\n",
      "195      196      1733          196                         Soda\n",
      "38688  38689      1397        38689     Organic Reduced Fat Milk\n",
      "26208  26209      1370        26209                        Limes\n",
      "12340  12341      1340        12341                Hass Avocados\n",
      "5784    5785      1310         5785  Organic Reduced Fat 2% Milk\n",
      "27085  27086      1309        27086                  Half & Half\n",
      "22934  22935      1246        22935         Organic Yellow Onion\n"
     ]
    }
   ],
   "source": [
    "top_first_items.columns = ['','Cantidad', 'ID Producto', 'Nombre Producto']\n",
    "print(top_first_items)"
   ]
  },
  {
   "cell_type": "markdown",
   "id": "28ce9872",
   "metadata": {
    "id": "28ce9872"
   },
   "source": [
    "Escribe aquí tus conclusiones\n",
    "* Al parecer las personas ponene primero productos basicos y organicos en sus carritos como por ejemplo frutas y verduras, agua y leche."
   ]
  },
  {
   "cell_type": "markdown",
   "id": "uITbFCEoDosC",
   "metadata": {
    "id": "uITbFCEoDosC"
   },
   "source": [
    "### Conclusion general del proyecto:"
   ]
  },
  {
   "cell_type": "markdown",
   "id": "d87d7c4d",
   "metadata": {
    "id": "Nk-4GS7mDwqY"
   },
   "source": [
    "Pienso que hay mucha información que a pesar que creé el código no me quedó muy clara. Me tomó demasiado tiempo escribir la mayoría de los códigos para obtener algún resultado que se pareciera medianamente a lo que la pregunta planteada, conozco los métodos, las funciones, pero me cuesta mucho entender el resultado que obtengo para poder fluir en el analisis."
   ]
  }
 ],
 "metadata": {
  "colab": {
   "provenance": []
  },
  "kernelspec": {
   "display_name": "Python 3 (ipykernel)",
   "language": "python",
   "name": "python3"
  },
  "language_info": {
   "codemirror_mode": {
    "name": "ipython",
    "version": 3
   },
   "file_extension": ".py",
   "mimetype": "text/x-python",
   "name": "python",
   "nbconvert_exporter": "python",
   "pygments_lexer": "ipython3",
   "version": "3.9.19"
  },
  "toc": {
   "base_numbering": 1,
   "nav_menu": {},
   "number_sections": true,
   "sideBar": true,
   "skip_h1_title": true,
   "title_cell": "Table of Contents",
   "title_sidebar": "Contents",
   "toc_cell": false,
   "toc_position": {},
   "toc_section_display": true,
   "toc_window_display": false
  },
  "vscode": {
   "interpreter": {
    "hash": "01a7be9ec63e704a62cefc5fe7a4756944464ee731be31632bdf42a4cb4688cf"
   }
  }
 },
 "nbformat": 4,
 "nbformat_minor": 5
}
